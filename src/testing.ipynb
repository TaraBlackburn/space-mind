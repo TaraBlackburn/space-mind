{
 "cells": [
  {
   "cell_type": "code",
   "execution_count": 1,
   "source": [
    "from api import Cortex\n"
   ],
   "outputs": [],
   "metadata": {}
  },
  {
   "cell_type": "code",
   "execution_count": 2,
   "source": [
    "left = Cortex('pteradox')"
   ],
   "outputs": [],
   "metadata": {}
  },
  {
   "cell_type": "code",
   "execution_count": 3,
   "source": [
    "left.query_headset()"
   ],
   "outputs": [
    {
     "output_type": "stream",
     "name": "stdout",
     "text": [
      "query headset --------------------------------\n"
     ]
    },
    {
     "output_type": "execute_result",
     "data": {
      "text/plain": [
       "[{'connectedBy': 'dongle',\n",
       "  'customName': 'Left',\n",
       "  'dongle': '6ff',\n",
       "  'firmware': '634',\n",
       "  'headbandPosition': None,\n",
       "  'id': 'EPOCPLUS-07647F93',\n",
       "  'isDfuMode': False,\n",
       "  'isVirtual': True,\n",
       "  'motionSensors': ['Q0',\n",
       "   'Q1',\n",
       "   'Q2',\n",
       "   'Q3',\n",
       "   'ACCX',\n",
       "   'ACCY',\n",
       "   'ACCZ',\n",
       "   'MAGX',\n",
       "   'MAGY',\n",
       "   'MAGZ'],\n",
       "  'sensors': ['AF3',\n",
       "   'F7',\n",
       "   'F3',\n",
       "   'FC5',\n",
       "   'T7',\n",
       "   'P7',\n",
       "   'O1',\n",
       "   'O2',\n",
       "   'P8',\n",
       "   'T8',\n",
       "   'FC6',\n",
       "   'F4',\n",
       "   'F8',\n",
       "   'AF4'],\n",
       "  'settings': {'eegRate': 128,\n",
       "   'eegRes': 16,\n",
       "   'memsRate': 32,\n",
       "   'memsRes': 16,\n",
       "   'mode': 'EPOCPLUS'},\n",
       "  'status': 'connected',\n",
       "  'virtualHeadsetId': '07647f93-3bd3-438f-8ba4-99e13751ac5c'}]"
      ]
     },
     "metadata": {},
     "execution_count": 3
    }
   ],
   "metadata": {}
  },
  {
   "cell_type": "code",
   "execution_count": 6,
   "source": [
    "left.connect_headset('07647F93')"
   ],
   "outputs": [
    {
     "output_type": "stream",
     "name": "stdout",
     "text": [
      "connect headset --------------------------------\n",
      "Connect headset 07647F93 successfully.\n"
     ]
    }
   ],
   "metadata": {}
  },
  {
   "cell_type": "code",
   "execution_count": 7,
   "source": [
    "left.request_access()\n"
   ],
   "outputs": [
    {
     "output_type": "stream",
     "name": "stdout",
     "text": [
      "request access --------------------------------\n"
     ]
    },
    {
     "output_type": "error",
     "ename": "TypeError",
     "evalue": "string indices must be integers",
     "traceback": [
      "\u001b[0;31m---------------------------------------------------------------------------\u001b[0m",
      "\u001b[0;31mTypeError\u001b[0m                                 Traceback (most recent call last)",
      "\u001b[0;32m<ipython-input-7-237926e49912>\u001b[0m in \u001b[0;36m<module>\u001b[0;34m\u001b[0m\n\u001b[0;32m----> 1\u001b[0;31m \u001b[0mleft\u001b[0m\u001b[0;34m.\u001b[0m\u001b[0mrequest_access\u001b[0m\u001b[0;34m(\u001b[0m\u001b[0;34m)\u001b[0m\u001b[0;34m\u001b[0m\u001b[0;34m\u001b[0m\u001b[0m\n\u001b[0m",
      "\u001b[0;32m~/space-mind/src/api.py\u001b[0m in \u001b[0;36mrequest_access\u001b[0;34m(self)\u001b[0m\n\u001b[1;32m     89\u001b[0m             \u001b[0;34m\"method\"\u001b[0m\u001b[0;34m:\u001b[0m \u001b[0;34m\"requestAccess\"\u001b[0m\u001b[0;34m,\u001b[0m\u001b[0;34m\u001b[0m\u001b[0;34m\u001b[0m\u001b[0m\n\u001b[1;32m     90\u001b[0m             \"params\": {\n\u001b[0;32m---> 91\u001b[0;31m                 \u001b[0;34m\"clientId\"\u001b[0m\u001b[0;34m:\u001b[0m \u001b[0mself\u001b[0m\u001b[0;34m.\u001b[0m\u001b[0muser\u001b[0m\u001b[0;34m[\u001b[0m\u001b[0;34m'pteradox'\u001b[0m\u001b[0;34m]\u001b[0m\u001b[0;34m,\u001b[0m\u001b[0;34m\u001b[0m\u001b[0;34m\u001b[0m\u001b[0m\n\u001b[0m\u001b[1;32m     92\u001b[0m                 \u001b[0;34m\"clientSecret\"\u001b[0m\u001b[0;34m:\u001b[0m \u001b[0mself\u001b[0m\u001b[0;34m.\u001b[0m\u001b[0muser\u001b[0m\u001b[0;34m[\u001b[0m\u001b[0;34m'MHz1aJxXHoANskYuKz0tbh1qwuuJUaNorq8r3D3IiCLyZTuVUstRgYHSEiBPGcRFoFU7Tn7s0WZzN0c4YhogKHN2n53IeFRa4gRNl0A3VkJ7X7Ts2lSBkqjBzp2vKnpa'\u001b[0m\u001b[0;34m]\u001b[0m\u001b[0;34m\u001b[0m\u001b[0;34m\u001b[0m\u001b[0m\n\u001b[1;32m     93\u001b[0m             },\n",
      "\u001b[0;31mTypeError\u001b[0m: string indices must be integers"
     ]
    }
   ],
   "metadata": {}
  },
  {
   "cell_type": "code",
   "execution_count": null,
   "source": [],
   "outputs": [],
   "metadata": {}
  }
 ],
 "metadata": {
  "orig_nbformat": 4,
  "language_info": {
   "name": "python",
   "version": "3.8.5",
   "mimetype": "text/x-python",
   "codemirror_mode": {
    "name": "ipython",
    "version": 3
   },
   "pygments_lexer": "ipython3",
   "nbconvert_exporter": "python",
   "file_extension": ".py"
  },
  "kernelspec": {
   "name": "python3",
   "display_name": "Python 3.8.5 64-bit ('base': conda)"
  },
  "interpreter": {
   "hash": "f19acf6f74a7eb80785c6028b5d0046357fb08ccf452a8c71704de342991f470"
  }
 },
 "nbformat": 4,
 "nbformat_minor": 2
}